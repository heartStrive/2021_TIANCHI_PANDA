{
 "cells": [
  {
   "cell_type": "code",
   "execution_count": 5,
   "metadata": {},
   "outputs": [],
   "source": [
    "import numpy as np\n",
    "from src_python.algo import *\n",
    "import matplotlib.pyplot as plt\n",
    "# load input matrices\n",
    "# detection_arcs = np.loadtxt(\"./sample/detecton_mat.txt\", delimiter=\",\")\n",
    "# transition_arcs = np.loadtxt(\"./sample/transition_mat.txt\", delimiter=\",\")\n",
    "detection_arcs = np.load(\"../../association/data/arcs/detection_arcs.npy\")\n",
    "transition_arcs = np.load(\"../../association/data/arcs/transition_arcs.npy\")"
   ]
  },
  {
   "cell_type": "code",
   "execution_count": 6,
   "metadata": {},
   "outputs": [],
   "source": [
    "traj, cost = mcc4mot(detection_arcs, transition_arcs)"
   ]
  },
  {
   "cell_type": "code",
   "execution_count": 7,
   "metadata": {},
   "outputs": [
    {
     "data": {
      "text/plain": [
       "740"
      ]
     },
     "execution_count": 7,
     "metadata": {},
     "output_type": "execute_result"
    }
   ],
   "source": [
    "len(traj)"
   ]
  },
  {
   "cell_type": "code",
   "execution_count": 21,
   "metadata": {},
   "outputs": [
    {
     "data": {
      "text/plain": [
       "[13181,\n",
       " 12268,\n",
       " 11583,\n",
       " 10816,\n",
       " 10114,\n",
       " 9145,\n",
       " 8322,\n",
       " 7370,\n",
       " 6520,\n",
       " 5786,\n",
       " 5004,\n",
       " 4274,\n",
       " 3420,\n",
       " 2518,\n",
       " 1852,\n",
       " 1072]"
      ]
     },
     "execution_count": 21,
     "metadata": {},
     "output_type": "execute_result"
    }
   ],
   "source": [
    "traj[550]"
   ]
  },
  {
   "cell_type": "code",
   "execution_count": null,
   "metadata": {},
   "outputs": [],
   "source": []
  }
 ],
 "metadata": {
  "kernelspec": {
   "display_name": "wsb",
   "language": "python",
   "name": "python3"
  },
  "language_info": {
   "codemirror_mode": {
    "name": "ipython",
    "version": 3
   },
   "file_extension": ".py",
   "mimetype": "text/x-python",
   "name": "python",
   "nbconvert_exporter": "python",
   "pygments_lexer": "ipython3",
   "version": "3.6.13 (default, Sep 23 2021, 07:38:49) [MSC v.1916 64 bit (AMD64)]"
  },
  "vscode": {
   "interpreter": {
    "hash": "e147a8603cc2dfa996062c5ff148c7e2cf5582373c703e05251d3db49a037d97"
   }
  }
 },
 "nbformat": 4,
 "nbformat_minor": 2
}
