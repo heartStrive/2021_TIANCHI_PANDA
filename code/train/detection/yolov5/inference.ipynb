{
 "cells": [
  {
   "cell_type": "code",
   "execution_count": 1,
   "id": "a7c12265",
   "metadata": {},
   "outputs": [
    {
     "name": "stdout",
     "output_type": "stream",
     "text": [
      "OVERLAP :  0.2\n"
     ]
    }
   ],
   "source": [
    "import pandas as pd\n",
    "import numpy as np\n",
    "import time\n",
    "import mmcv\n",
    "import json\n",
    "import time\n",
    "import os\n",
    "import sys\n",
    "import os.path as pt\n",
    "from ensemble_boxes import weighted_boxes_fusion\n",
    "import warnings\n",
    "from yolo_inference import *\n",
    "warnings.filterwarnings('ignore')"
   ]
  },
  {
   "cell_type": "code",
   "execution_count": 2,
   "id": "46d4ea91",
   "metadata": {},
   "outputs": [],
   "source": [
    "IMAGE_ROOT = '../../../../user_data/tmp_data/round-2/video_train/'\n",
    "CKPT_PATH = './runs/train/fbody9/weights/best.pt'\n",
    "OUT_ROOT = '../../../../user_data/tmp_data/tracking/MOT-PANDA/'"
   ]
  },
  {
   "cell_type": "code",
   "execution_count": 3,
   "id": "179c03f8",
   "metadata": {},
   "outputs": [
    {
     "name": "stdout",
     "output_type": "stream",
     "text": [
      "Fusing layers... \n"
     ]
    }
   ],
   "source": [
    "model = init_yolo_detector(CKPT_PATH,('full_body',), device='cuda:1')"
   ]
  },
  {
   "cell_type": "code",
   "execution_count": 35,
   "id": "0b200d17",
   "metadata": {},
   "outputs": [],
   "source": [
    "img_paths = {0:{},1:{},2:{},3:{}}\n",
    "vid_nms = [x for x in os.listdir(IMAGE_ROOT) if not x.endswith('zip')]\n",
    "for vid_nm in vid_nms:\n",
    "    gpu_id = int(vid_nm.split('_')[0]) % 4\n",
    "    img_root = os.path.join(IMAGE_ROOT, vid_nm)\n",
    "    img_nms = os.listdir(img_root)\n",
    "    img_paths[gpu_id][vid_nm] = sorted([os.path.join(img_root, img_nm) for img_nm in img_nms])"
   ]
  },
  {
   "cell_type": "code",
   "execution_count": 47,
   "id": "f35d856c",
   "metadata": {},
   "outputs": [],
   "source": [
    "for vid_nm, paths in img_paths[0].items():\n",
    "    det_lst = []\n",
    "    for path in paths:\n",
    "        frame = int(path.split(\"/\")[-1].split(\"_\")[-1].split(\".\")[0])\n",
    "        yolov5_dets = simple_infer(path, model, device='cuda:1')\n",
    "        for det in yolov5_dets:\n",
    "            x1, y1, x2, y2, score = det\n",
    "            det_lst.append([frame, -1, x1, y1, x2-x1, y2-y1, score])                        \n",
    "        break\n",
    "    break"
   ]
  },
  {
   "cell_type": "code",
   "execution_count": 65,
   "id": "e5b6ccee",
   "metadata": {},
   "outputs": [],
   "source": [
    "det_out_path = os.path.join(out_root, vid_nm)+ '/det/yolov5_det.txt'"
   ]
  },
  {
   "cell_type": "code",
   "execution_count": 51,
   "id": "94de23c6",
   "metadata": {},
   "outputs": [],
   "source": [
    "det_df = pd.DataFrame(det_lst)"
   ]
  },
  {
   "cell_type": "code",
   "execution_count": 66,
   "id": "b14db4d2",
   "metadata": {},
   "outputs": [],
   "source": [
    "det_df.to_csv(det_out_path, index=False, header=False)"
   ]
  },
  {
   "cell_type": "code",
   "execution_count": 67,
   "id": "4c0f546d",
   "metadata": {},
   "outputs": [
    {
     "data": {
      "text/plain": [
       "'/raid/ly/Dataset/tianchi2021/user_data/tmp_data/tracking/MOT-PANDA/08_Xili_Street_1/det/yolov5_det.txt'"
      ]
     },
     "execution_count": 67,
     "metadata": {},
     "output_type": "execute_result"
    }
   ],
   "source": [
    "det_out_path"
   ]
  },
  {
   "cell_type": "code",
   "execution_count": null,
   "id": "5e317cdb",
   "metadata": {},
   "outputs": [],
   "source": []
  }
 ],
 "metadata": {
  "kernelspec": {
   "display_name": "Python 3",
   "language": "python",
   "name": "python3"
  },
  "language_info": {
   "codemirror_mode": {
    "name": "ipython",
    "version": 3
   },
   "file_extension": ".py",
   "mimetype": "text/x-python",
   "name": "python",
   "nbconvert_exporter": "python",
   "pygments_lexer": "ipython3",
   "version": "3.8.8"
  }
 },
 "nbformat": 4,
 "nbformat_minor": 5
}
