{
 "cells": [
  {
   "cell_type": "code",
   "execution_count": 1,
   "id": "15e2561b",
   "metadata": {},
   "outputs": [],
   "source": [
    "import os\n",
    "import pandas as pd\n",
    "import cv2\n",
    "import matplotlib.pyplot as plt\n",
    "from tqdm.notebook import tqdm"
   ]
  },
  {
   "cell_type": "code",
   "execution_count": 2,
   "id": "22b4db37",
   "metadata": {},
   "outputs": [],
   "source": [
    "root = \"/raid/ly/Dataset/tianchi2021/user_data/tmp_data/tracking/MOT-PANDA/\"\n",
    "out_root = \"/raid/ly/Dataset/tianchi2021/user_data/tmp_data/classification/\"\n",
    "vid_nms = [x for x in os.listdir(root)]"
   ]
  },
  {
   "cell_type": "code",
   "execution_count": 3,
   "id": "1b1189a0",
   "metadata": {},
   "outputs": [],
   "source": [
    "ann_paths = [os.path.join(root, vid_nm)+'/gt/gt.txt' for vid_nm in vid_nms]\n",
    "img_roots = [os.path.join(root, vid_nm)+'/img1' for vid_nm in vid_nms]"
   ]
  },
  {
   "cell_type": "code",
   "execution_count": 4,
   "id": "c7a37b46",
   "metadata": {},
   "outputs": [
    {
     "data": {
      "application/vnd.jupyter.widget-view+json": {
       "model_id": "2756989918a341d4a41eb99215f699d2",
       "version_major": 2,
       "version_minor": 0
      },
      "text/plain": [
       "  0%|          | 0/10 [00:00<?, ?it/s]"
      ]
     },
     "metadata": {},
     "output_type": "display_data"
    },
    {
     "data": {
      "application/vnd.jupyter.widget-view+json": {
       "model_id": "cf68507504f04a42939315a46a6a60a5",
       "version_major": 2,
       "version_minor": 0
      },
      "text/plain": [
       "  0%|          | 0/234 [00:00<?, ?it/s]"
      ]
     },
     "metadata": {},
     "output_type": "display_data"
    },
    {
     "data": {
      "application/vnd.jupyter.widget-view+json": {
       "model_id": "b2c30a8e30494579b572cd768de566a7",
       "version_major": 2,
       "version_minor": 0
      },
      "text/plain": [
       "  0%|          | 0/234 [00:00<?, ?it/s]"
      ]
     },
     "metadata": {},
     "output_type": "display_data"
    },
    {
     "data": {
      "application/vnd.jupyter.widget-view+json": {
       "model_id": "d6eabe813ee84c6a8574b83bbd09cb33",
       "version_major": 2,
       "version_minor": 0
      },
      "text/plain": [
       "  0%|          | 0/234 [00:00<?, ?it/s]"
      ]
     },
     "metadata": {},
     "output_type": "display_data"
    },
    {
     "data": {
      "application/vnd.jupyter.widget-view+json": {
       "model_id": "2434b4de37a64b81ae1787fe960be6d8",
       "version_major": 2,
       "version_minor": 0
      },
      "text/plain": [
       "  0%|          | 0/234 [00:00<?, ?it/s]"
      ]
     },
     "metadata": {},
     "output_type": "display_data"
    },
    {
     "data": {
      "application/vnd.jupyter.widget-view+json": {
       "model_id": "40eeca3fa9384d6391334e05f2112e97",
       "version_major": 2,
       "version_minor": 0
      },
      "text/plain": [
       "  0%|          | 0/222 [00:00<?, ?it/s]"
      ]
     },
     "metadata": {},
     "output_type": "display_data"
    },
    {
     "data": {
      "application/vnd.jupyter.widget-view+json": {
       "model_id": "4576268ee8b1456caf62345553d00760",
       "version_major": 2,
       "version_minor": 0
      },
      "text/plain": [
       "  0%|          | 0/180 [00:00<?, ?it/s]"
      ]
     },
     "metadata": {},
     "output_type": "display_data"
    },
    {
     "data": {
      "application/vnd.jupyter.widget-view+json": {
       "model_id": "8db6aed0a383462a915a9c7c5c915151",
       "version_major": 2,
       "version_minor": 0
      },
      "text/plain": [
       "  0%|          | 0/148 [00:00<?, ?it/s]"
      ]
     },
     "metadata": {},
     "output_type": "display_data"
    },
    {
     "data": {
      "application/vnd.jupyter.widget-view+json": {
       "model_id": "6ead5d51d3344a67abeadd358981a211",
       "version_major": 2,
       "version_minor": 0
      },
      "text/plain": [
       "  0%|          | 0/234 [00:00<?, ?it/s]"
      ]
     },
     "metadata": {},
     "output_type": "display_data"
    },
    {
     "data": {
      "application/vnd.jupyter.widget-view+json": {
       "model_id": "7ff3a3b992cd4231803f8d4aab8fab8e",
       "version_major": 2,
       "version_minor": 0
      },
      "text/plain": [
       "  0%|          | 0/234 [00:00<?, ?it/s]"
      ]
     },
     "metadata": {},
     "output_type": "display_data"
    },
    {
     "data": {
      "application/vnd.jupyter.widget-view+json": {
       "model_id": "5941c81e79d04981895ee2923ae00421",
       "version_major": 2,
       "version_minor": 0
      },
      "text/plain": [
       "  0%|          | 0/133 [00:00<?, ?it/s]"
      ]
     },
     "metadata": {},
     "output_type": "display_data"
    }
   ],
   "source": [
    "for i in tqdm(range(len(ann_paths))):\n",
    "    ann_path = ann_paths[i]\n",
    "    img_root = img_roots[i]\n",
    "    seq_id = ann_path.split('/')[-3].split('_')[0]\n",
    "    ann_df = pd.read_csv(ann_path, names=['frame', 'id', 'bb_left', 'bb_top', 'bb_width', 'bb_height', 'conf', 'x', 'y', 'z', 'occ'])\n",
    "    ann_df.fillna(\"disappear\", inplace=True)\n",
    "    for fid, group in tqdm(ann_df.groupby('frame'), total = len(ann_df.groupby('frame'))):\n",
    "        img_nm = '_'.join(['SEQ',seq_id, str(fid).zfill(3)]) + '.jpg'\n",
    "        img_path = os.path.join(img_root, img_nm)\n",
    "        img = cv2.imread(img_path)\n",
    "        img_h, img_w, _ = img.shape\n",
    "        for ann_id, ann in group.iterrows():\n",
    "            x, y, w, h = ann.bb_left, ann.bb_top, ann.bb_width, ann.bb_height\n",
    "            fid, pid = ann.frame, ann.id\n",
    "            x, y, w, h = int(x), int(y), int(w), int(h)\n",
    "            if x < 0:\n",
    "                x = 0\n",
    "            if y < 0:\n",
    "                y = 0\n",
    "            if x + w > img_w:\n",
    "                w = img_w - x -1\n",
    "            if y + h > img_h:\n",
    "                y = img_h - h -1     \n",
    "            if h * w > 5:\n",
    "                sub_img = img[y:y+h, x:x+w, :]\n",
    "                sub_img_nm = \"_\".join([str(x) for x in [seq_id, fid, pid, x, y, w, h]]) + '.jpg'\n",
    "                sub_img_out_path = os.path.join(out_root, ann.occ, sub_img_nm)\n",
    "                cv2.imwrite(sub_img_out_path, sub_img)"
   ]
  },
  {
   "cell_type": "code",
   "execution_count": 9,
   "id": "12e6e97a",
   "metadata": {},
   "outputs": [],
   "source": [
    "occ_img_root = \"../../user_data/tmp_data/classification/\"\n",
    "occ_cls = ['disappear', 'hide', 'normal', 'serious hide']\n",
    "occ_img_paths = []\n",
    "for cls in occ_cls:\n",
    "    img_root =os.path.join(occ_img_root, cls)\n",
    "    img_nms = os.listdir(img_root)\n",
    "    occ_img_paths += [os.path.join(img_root, img_nm) for img_nm in img_nms]"
   ]
  },
  {
   "cell_type": "code",
   "execution_count": 26,
   "id": "8acfa803",
   "metadata": {},
   "outputs": [],
   "source": [
    "train_keep_root = \"../../user_data/tmp_data/classification/train/keep/\"\n",
    "train_drop_root = \"../../user_data/tmp_data/classification/train/drop/\"\n",
    "val_keep_root = \"../../user_data/tmp_data/classification/val/keep/\"\n",
    "val_drop_root = \"../../user_data/tmp_data/classification/val/drop/\"\n",
    "\n",
    "trainsub_keep_root = \"../../user_data/tmp_data/classification/occ_data_sub/train/keep/\"\n",
    "trainsub_drop_root = \"../../user_data/tmp_data/classification/occ_data_sub/train/drop/\"\n",
    "valsub_keep_root = \"../../user_data/tmp_data/classification/occ_data_sub/val/keep/\"\n",
    "valsub_drop_root = \"../../user_data/tmp_data/classification/occ_data_sub/val/drop/\""
   ]
  },
  {
   "cell_type": "code",
   "execution_count": 19,
   "id": "82e73c9c",
   "metadata": {},
   "outputs": [
    {
     "data": {
      "text/plain": [
       "695018"
      ]
     },
     "execution_count": 19,
     "metadata": {},
     "output_type": "execute_result"
    }
   ],
   "source": [
    "len(occ_img_paths)"
   ]
  },
  {
   "cell_type": "code",
   "execution_count": 13,
   "id": "217f2ce2",
   "metadata": {},
   "outputs": [],
   "source": [
    "import shutil"
   ]
  },
  {
   "cell_type": "code",
   "execution_count": 18,
   "id": "0a9bd6d2",
   "metadata": {},
   "outputs": [
    {
     "data": {
      "application/vnd.jupyter.widget-view+json": {
       "model_id": "395680d3445849c880e176b2437debb6",
       "version_major": 2,
       "version_minor": 0
      },
      "text/plain": [
       "  0%|          | 0/695018 [00:00<?, ?it/s]"
      ]
     },
     "metadata": {},
     "output_type": "display_data"
    }
   ],
   "source": [
    "for occ_img_path in tqdm(occ_img_paths, total = len(occ_img_paths)):\n",
    "    img_nm = occ_img_path.split('/')[-1].split('_')[0]\n",
    "    if (('disappear' in occ_img_path) | ('serious hide' in occ_img_path)) & (img_nm != '10'):\n",
    "        dst = train_drop_root\n",
    "    elif (('normal' in occ_img_path) | ('hide' in occ_img_path)) & (img_nm != '10'):\n",
    "        dst = train_keep_root\n",
    "    elif (('disappear' in occ_img_path) | ('serious hide' in occ_img_path)) & (img_nm == '10'):\n",
    "        dst = val_drop_root\n",
    "    elif (('normal' in occ_img_path) | ('hide' in occ_img_path)) & (img_nm == '10'):\n",
    "        dst = val_keep_root\n",
    "    \n",
    "    shutil.copy2(occ_img_path, dst)"
   ]
  },
  {
   "cell_type": "code",
   "execution_count": 29,
   "id": "4efcbec9",
   "metadata": {},
   "outputs": [
    {
     "data": {
      "application/vnd.jupyter.widget-view+json": {
       "model_id": "c4a8406ab3be4392a4c240842eb4acf2",
       "version_major": 2,
       "version_minor": 0
      },
      "text/plain": [
       "  0%|          | 0/695018 [00:00<?, ?it/s]"
      ]
     },
     "metadata": {},
     "output_type": "display_data"
    }
   ],
   "source": [
    "for occ_img_path in tqdm(occ_img_paths, total = len(occ_img_paths)):\n",
    "    img_nm = occ_img_path.split('/')[-1].split('_')[0]\n",
    "    fid = occ_img_path.split('/')[-1].split('_')[1]\n",
    "    if (('disappear' in occ_img_path) | ('serious hide' in occ_img_path)) & (img_nm != '10') & (int(fid) % 5 == 0):\n",
    "        dst = trainsub_drop_root\n",
    "        shutil.copy2(occ_img_path, dst)\n",
    "    elif (('normal' in occ_img_path) | ('hide' in occ_img_path)) & (img_nm != '10') & (int(fid) % 5 == 0):\n",
    "        dst = trainsub_keep_root\n",
    "        shutil.copy2(occ_img_path, dst)\n",
    "    elif (('disappear' in occ_img_path) | ('serious hide' in occ_img_path)) & (img_nm == '10') & (int(fid) % 5 == 0):\n",
    "        dst = valsub_drop_root\n",
    "        shutil.copy2(occ_img_path, dst)\n",
    "    elif (('normal' in occ_img_path) | ('hide' in occ_img_path)) & (img_nm == '10') & (int(fid) % 5 == 0):\n",
    "        dst = valsub_keep_root\n",
    "        shutil.copy2(occ_img_path, dst)"
   ]
  }
 ],
 "metadata": {
  "kernelspec": {
   "display_name": "Python 3",
   "language": "python",
   "name": "python3"
  },
  "language_info": {
   "codemirror_mode": {
    "name": "ipython",
    "version": 3
   },
   "file_extension": ".py",
   "mimetype": "text/x-python",
   "name": "python",
   "nbconvert_exporter": "python",
   "pygments_lexer": "ipython3",
   "version": "3.8.8"
  }
 },
 "nbformat": 4,
 "nbformat_minor": 5
}
