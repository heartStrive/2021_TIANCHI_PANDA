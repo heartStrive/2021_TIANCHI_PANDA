{
 "cells": [
  {
   "cell_type": "code",
   "execution_count": 1,
   "id": "4e2c5e3d",
   "metadata": {},
   "outputs": [],
   "source": [
    "import pandas as pd\n",
    "import json\n",
    "import os\n",
    "import os.path as osp"
   ]
  },
  {
   "cell_type": "code",
   "execution_count": 2,
   "id": "9f142318",
   "metadata": {},
   "outputs": [],
   "source": [
    "from utils import round1_coco, round2_coco"
   ]
  },
  {
   "cell_type": "code",
   "execution_count": 3,
   "id": "2597d301",
   "metadata": {},
   "outputs": [],
   "source": [
    "round1_root = \"../../user_data/tmp_data/round-1/\"\n",
    "round2_root = \"../../user_data/tmp_data/round-2/\""
   ]
  },
  {
   "cell_type": "code",
   "execution_count": 4,
   "id": "838f6ae1",
   "metadata": {},
   "outputs": [],
   "source": [
    "round1_tgtfile = '../../user_data/tmp_data/detection/annotations/panda_coco_round1.json'\n",
    "round2_tgtfile = '../../user_data/tmp_data/detection/annotations/panda_coco_round2.json'"
   ]
  },
  {
   "cell_type": "code",
   "execution_count": 5,
   "id": "bc5e460f",
   "metadata": {},
   "outputs": [
    {
     "name": "stdout",
     "output_type": "stream",
     "text": [
      "save file :  ../../user_data/tmp_data/detection/annotations/panda_coco_round1.json\n"
     ]
    }
   ],
   "source": [
    "round1_coco(round1_root, round1_tgtfile)"
   ]
  },
  {
   "cell_type": "code",
   "execution_count": 6,
   "id": "a7df386e",
   "metadata": {},
   "outputs": [
    {
     "name": "stderr",
     "output_type": "stream",
     "text": [
      "100%|██████████| 10/10 [00:07<00:00,  1.37it/s]\n"
     ]
    },
    {
     "name": "stdout",
     "output_type": "stream",
     "text": [
      "save file :  ../../user_data/tmp_data/detection/annotations/panda_coco_round2.json\n"
     ]
    }
   ],
   "source": [
    "round2_coco(round2_root, round2_tgtfile)"
   ]
  },
  {
   "cell_type": "code",
   "execution_count": 7,
   "id": "da7fecf3",
   "metadata": {},
   "outputs": [],
   "source": [
    "from pycocotools.coco import COCO"
   ]
  },
  {
   "cell_type": "code",
   "execution_count": 10,
   "id": "04b281ea",
   "metadata": {},
   "outputs": [
    {
     "name": "stdout",
     "output_type": "stream",
     "text": [
      "loading annotations into memory...\n",
      "Done (t=0.43s)\n",
      "creating index...\n",
      "index created!\n"
     ]
    }
   ],
   "source": [
    "annFile = '../../user_data/tmp_data/detection/annotations/panda_coco_round1.json'\n",
    "# load annotations\n",
    "coco=COCO(annFile)"
   ]
  },
  {
   "cell_type": "code",
   "execution_count": 35,
   "id": "ac2ed49d",
   "metadata": {},
   "outputs": [],
   "source": [
    "img_dict = {}\n",
    "for imgId, img_info in coco.imgs.items():\n",
    "    img_nm = img_info['file_name']\n",
    "    set_id = int(img_nm.split('/')[0].split('_')[0])\n",
    "    frame_id = int(img_nm.split('/')[1].split('_')[-1][:-4])\n",
    "    if (set_id in [1,2]) & (frame_id % 1 == 0):\n",
    "        img_dict[imgId] = img_info"
   ]
  },
  {
   "cell_type": "code",
   "execution_count": 36,
   "id": "4b9bdd0f",
   "metadata": {},
   "outputs": [
    {
     "data": {
      "text/plain": [
       "'13_University_Playground/IMG_13_30.jpg'"
      ]
     },
     "execution_count": 36,
     "metadata": {},
     "output_type": "execute_result"
    }
   ],
   "source": [
    "img_info['file_name']"
   ]
  },
  {
   "cell_type": "code",
   "execution_count": null,
   "id": "d1f58513",
   "metadata": {},
   "outputs": [],
   "source": []
  }
 ],
 "metadata": {
  "kernelspec": {
   "display_name": "Python 3",
   "language": "python",
   "name": "python3"
  },
  "language_info": {
   "codemirror_mode": {
    "name": "ipython",
    "version": 3
   },
   "file_extension": ".py",
   "mimetype": "text/x-python",
   "name": "python",
   "nbconvert_exporter": "python",
   "pygments_lexer": "ipython3",
   "version": "3.8.8"
  }
 },
 "nbformat": 4,
 "nbformat_minor": 5
}
