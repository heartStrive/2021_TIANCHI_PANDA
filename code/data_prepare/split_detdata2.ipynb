{
 "cells": [
  {
   "cell_type": "code",
   "execution_count": 1,
   "id": "ef8cbc92",
   "metadata": {},
   "outputs": [],
   "source": [
    "import split_utils\n",
    "from pycocotools.coco import COCO"
   ]
  },
  {
   "cell_type": "code",
   "execution_count": 2,
   "id": "96a81c1a",
   "metadata": {},
   "outputs": [],
   "source": [
    "imgRoot = \"../../user_data/tmp_data/round-2/video_train/\"\n",
    "tgtfile = \"../../user_data/tmp_data/detection/annotations/panda_coco_round2.json\"\n",
    "tileRoot = \"../../user_data/tmp_data/detection/image_tiles_round2/\"\n",
    "tiles_annfile = \"../../user_data/tmp_data/detection/annotations/tiles_trainval_round2.json\""
   ]
  },
  {
   "cell_type": "code",
   "execution_count": 3,
   "id": "561600f5",
   "metadata": {},
   "outputs": [
    {
     "name": "stdout",
     "output_type": "stream",
     "text": [
      "loading annotations into memory...\n",
      "Done (t=3.81s)\n",
      "creating index...\n"
     ]
    },
    {
     "name": "stderr",
     "output_type": "stream",
     "text": [
      "\r",
      "  0%|          | 0/2077 [00:00<?, ?it/s]"
     ]
    },
    {
     "name": "stdout",
     "output_type": "stream",
     "text": [
      "index created!\n"
     ]
    },
    {
     "name": "stderr",
     "output_type": "stream",
     "text": [
      "100%|██████████| 2077/2077 [10:37:29<00:00, 18.42s/it] \n"
     ]
    }
   ],
   "source": [
    "subwidth, subheight = 2560, 2560\n",
    "gap = (400, 800)\n",
    "scale_lst = [1.0, 0.5, 0.25, 0.125, 0.0625, 0.03125]\n",
    "\n",
    "coco = COCO(tgtfile)\n",
    "catIds = list(coco.cats.keys())\n",
    "\n",
    "split_utils.format_annos(coco, imgRoot, catIds, scale_lst, subwidth, subheight, gap, tileRoot, tiles_annfile)"
   ]
  },
  {
   "cell_type": "code",
   "execution_count": null,
   "id": "f1a252a3",
   "metadata": {},
   "outputs": [],
   "source": []
  }
 ],
 "metadata": {
  "kernelspec": {
   "display_name": "Python 3",
   "language": "python",
   "name": "python3"
  },
  "language_info": {
   "codemirror_mode": {
    "name": "ipython",
    "version": 3
   },
   "file_extension": ".py",
   "mimetype": "text/x-python",
   "name": "python",
   "nbconvert_exporter": "python",
   "pygments_lexer": "ipython3",
   "version": "3.8.8"
  }
 },
 "nbformat": 4,
 "nbformat_minor": 5
}
