{
 "cells": [
  {
   "cell_type": "code",
   "execution_count": 1,
   "id": "031f63e4",
   "metadata": {},
   "outputs": [],
   "source": [
    "import os\n",
    "import json\n",
    "from tqdm.notebook import tqdm\n",
    "import pandas as pd\n",
    "import numpy as np"
   ]
  },
  {
   "cell_type": "code",
   "execution_count": 2,
   "id": "ae81974a",
   "metadata": {},
   "outputs": [],
   "source": [
    "root = \"/raid/ly/Dataset/tianchi2021/user_data/tmp_data/round-2/\"\n",
    "vid_root = os.path.join(root, 'video_train')\n",
    "ann_root = os.path.join(root, 'video_annos')\n",
    "vid_nms = [x for x in os.listdir(vid_root) if not x.endswith('zip')]"
   ]
  },
  {
   "cell_type": "code",
   "execution_count": 3,
   "id": "a20897dc",
   "metadata": {},
   "outputs": [
    {
     "data": {
      "application/vnd.jupyter.widget-view+json": {
       "model_id": "d2b084ceae384559ae4a47cfc3efcf4d",
       "version_major": 2,
       "version_minor": 0
      },
      "text/plain": [
       "  0%|          | 0/10 [00:00<?, ?it/s]"
      ]
     },
     "metadata": {},
     "output_type": "display_data"
    }
   ],
   "source": [
    "gt_anns = []\n",
    "for vid_nm in tqdm(vid_nms, total=len(vid_nms)):\n",
    "    seqinfo_path = os.path.join(ann_root, vid_nm, 'seqinfo.json')\n",
    "    tracks_path = os.path.join(ann_root, vid_nm, 'tracks.json')\n",
    "    \n",
    "    with open(seqinfo_path) as f:\n",
    "        seqinfo = json.load(f)\n",
    "    with open(tracks_path) as f:\n",
    "        tracks = json.load(f)\n",
    "    \n",
    "    imgH, imgW = seqinfo['imHeight'], seqinfo['imWidth']\n",
    "    \n",
    "    for track in tracks:\n",
    "        pid = track['track id']\n",
    "        bboxes = track['frames']\n",
    "        for bbox in bboxes:\n",
    "            fid = bbox['frame id']\n",
    "            img_nm = os.path.join(vid_nm, seqinfo['imUrls'][fid-1])\n",
    "            rect = bbox['rect']\n",
    "            x1 = rect['tl']['x'] * imgW\n",
    "            y1 = rect['tl']['y'] * imgH\n",
    "            x2 = rect['br']['x'] * imgW\n",
    "            y2 = rect['br']['y'] * imgH\n",
    "            occ = bbox['occlusion']\n",
    "            gt_anns.append([img_nm, fid, pid, x1, y1, x2, y2, imgH, imgW,occ])"
   ]
  },
  {
   "cell_type": "code",
   "execution_count": 4,
   "id": "4d05c81d",
   "metadata": {},
   "outputs": [],
   "source": [
    "gt_df = pd.DataFrame(gt_anns, columns=['img_nm', 'fid', 'pid', 'x1', 'y1', 'x2', 'y2', 'imgH', 'imgW', 'occ'])"
   ]
  },
  {
   "cell_type": "code",
   "execution_count": 5,
   "id": "767814af",
   "metadata": {},
   "outputs": [],
   "source": [
    "gt_df.occ.fillna('disappear', inplace=True)\n",
    "gt_df.occ.replace('', 'disappear', inplace=True)\n",
    "gt_df.loc[gt_df.y2 > gt_df.imgH, ['y2']] = gt_df.loc[gt_df.y2 > gt_df.imgH, ['imgH']] - 1\n",
    "gt_df.loc[gt_df.y1 < 0, ['y1']] = 0\n",
    "gt_df.loc[gt_df.x2 > gt_df.imgW, ['x2']] = gt_df.loc[gt_df.x2 > gt_df.imgW, ['imgW']] - 1\n",
    "gt_df.loc[gt_df.x1 < 0, ['x1']] = 0\n",
    "gt_df['h'] = gt_df.y2 - gt_df.y1\n",
    "gt_df['w'] = gt_df.x2 - gt_df.x1\n",
    "gt_df['area'] = gt_df.h * gt_df.w\n",
    "gt_df = gt_df[gt_df['area'] > 25]\n",
    "gt_df.to_csv(\"round2_gt.csv\", index=False, header=None)"
   ]
  },
  {
   "cell_type": "code",
   "execution_count": 6,
   "id": "8d6bc8a0",
   "metadata": {},
   "outputs": [],
   "source": [
    "gt_df = pd.read_csv('round2_gt.csv', names=['img_nm', 'fid', 'pid', 'x1', 'y1', 'x2', 'y2', 'imgH', 'imgW', 'occ', 'h', 'w', 'area'])\n",
    "gt_df = gt_df[(gt_df.occ == 'normal') | (gt_df.occ == 'hide')]"
   ]
  },
  {
   "cell_type": "code",
   "execution_count": 7,
   "id": "a3deb252",
   "metadata": {},
   "outputs": [],
   "source": [
    "tgtfile = '../../user_data/tmp_data/detection/annotations/panda_coco_round2.json'"
   ]
  },
  {
   "cell_type": "code",
   "execution_count": 9,
   "id": "f8a29f86",
   "metadata": {},
   "outputs": [],
   "source": [
    "attrDict = dict()\n",
    "attrDict[\"categories\"] = [\n",
    "    {\"supercategory\": \"none\", \"id\": 1, \"name\": 'full body'},\n",
    "]\n",
    "images = list()\n",
    "annotations = list()\n",
    "imageids = list()\n",
    "\n",
    "objid = 1\n",
    "\n",
    "imgid = 0\n",
    "for _, sub_df in gt_df.groupby('img_nm'):\n",
    "    image = dict()\n",
    "    image['file_name'] = sub_df.img_nm.unique()[0]\n",
    "    imageids.append(imgid)\n",
    "    imgwidth = sub_df.imgW.unique()[0]\n",
    "    imgheight = sub_df.imgH.unique()[0]\n",
    "    image['height'] = int(imgheight)\n",
    "    image['width'] = int(imgwidth)\n",
    "    image['id'] = imgid\n",
    "    images.append(image)\n",
    "\n",
    "    for ann_id, ann in sub_df.iterrows():\n",
    "        cate = 'full body'\n",
    "        annotation = dict()\n",
    "        annotation[\"image_id\"] = imgid\n",
    "        annotation[\"ignore\"] = 0\n",
    "        annotation[\"iscrowd\"] = 0\n",
    "        x,y,w,h = int(ann.x1), int(ann.y1), int(ann.w), int(ann.h)\n",
    "        annotation[\"bbox\"] = [x, y, w, h]\n",
    "        annotation[\"area\"] = float(w * h)\n",
    "        annotation[\"category_id\"] = 1\n",
    "        annotation[\"id\"] = objid\n",
    "        objid += 1\n",
    "        annotation[\"segmentation\"] = [[x, y, x, (y + h), (x + w), (y + h), (x + w), y]]\n",
    "        annotations.append(annotation)\n",
    "    imgid += 1\n",
    "    \n",
    "attrDict[\"images\"] = images\n",
    "attrDict[\"annotations\"] = annotations\n",
    "attrDict[\"type\"] = \"instances\"     \n",
    "\n",
    "# print attrDict\n",
    "jsonString = json.dumps(attrDict, indent=2)\n",
    "with open(tgtfile, \"w\") as f:\n",
    "    f.write(jsonString)"
   ]
  },
  {
   "cell_type": "code",
   "execution_count": null,
   "id": "4051774f",
   "metadata": {},
   "outputs": [],
   "source": []
  }
 ],
 "metadata": {
  "kernelspec": {
   "display_name": "Python 3",
   "language": "python",
   "name": "python3"
  },
  "language_info": {
   "codemirror_mode": {
    "name": "ipython",
    "version": 3
   },
   "file_extension": ".py",
   "mimetype": "text/x-python",
   "name": "python",
   "nbconvert_exporter": "python",
   "pygments_lexer": "ipython3",
   "version": "3.8.8"
  }
 },
 "nbformat": 4,
 "nbformat_minor": 5
}
