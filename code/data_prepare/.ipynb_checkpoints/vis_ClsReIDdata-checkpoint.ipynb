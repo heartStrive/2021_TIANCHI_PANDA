{
 "cells": [
  {
   "cell_type": "code",
   "execution_count": 1,
   "id": "killing-participant",
   "metadata": {},
   "outputs": [],
   "source": [
    "import cv2\n",
    "import matplotlib.pyplot as plt\n",
    "import json"
   ]
  },
  {
   "cell_type": "code",
   "execution_count": 2,
   "id": "addressed-stanley",
   "metadata": {},
   "outputs": [],
   "source": [
    "import os\n",
    "import os.path as osp\n",
    "import pandas as pd\n",
    "from tqdm.notebook import tqdm\n",
    "import numpy as np\n",
    "from utils import *"
   ]
  },
  {
   "cell_type": "code",
   "execution_count": 3,
   "id": "established-nurse",
   "metadata": {},
   "outputs": [],
   "source": [
    "root = \"../../user_data/tmp_data/tracking/MOT-PANDA\"\n",
    "reid_root = '../../user_data/tmp_data/reid/ReID-PANDA'\n",
    "cls_root = '../../user_data/tmp_data/classification/CLS-PANDA'\n",
    "vid_root = '../../user_data/tmp_data/round-2/video_train/'\n",
    "vid_nms = os.listdir(root)"
   ]
  },
  {
   "cell_type": "code",
   "execution_count": 4,
   "id": "radio-remove",
   "metadata": {},
   "outputs": [
    {
     "name": "stdout",
     "output_type": "stream",
     "text": [
      "\u001b[31m++ create folder : ../../user_data/tmp_data/reid/ReID-PANDA/10_Huaqiangbei/img\u001b[0m\n"
     ]
    },
    {
     "ename": "KeyboardInterrupt",
     "evalue": "",
     "output_type": "error",
     "traceback": [
      "\u001b[0;31m---------------------------------------------------------------------------\u001b[0m",
      "\u001b[0;31mKeyboardInterrupt\u001b[0m                         Traceback (most recent call last)",
      "\u001b[0;32m<ipython-input-4-f1b4525c492f>\u001b[0m in \u001b[0;36m<module>\u001b[0;34m\u001b[0m\n\u001b[1;32m     10\u001b[0m         \u001b[0mimg_root\u001b[0m \u001b[0;34m=\u001b[0m \u001b[0mos\u001b[0m\u001b[0;34m.\u001b[0m\u001b[0mpath\u001b[0m\u001b[0;34m.\u001b[0m\u001b[0mjoin\u001b[0m\u001b[0;34m(\u001b[0m\u001b[0mvid_root\u001b[0m\u001b[0;34m,\u001b[0m \u001b[0mvid_nm\u001b[0m\u001b[0;34m)\u001b[0m\u001b[0;34m\u001b[0m\u001b[0;34m\u001b[0m\u001b[0m\n\u001b[1;32m     11\u001b[0m         \u001b[0mimg_path\u001b[0m \u001b[0;34m=\u001b[0m \u001b[0mos\u001b[0m\u001b[0;34m.\u001b[0m\u001b[0mpath\u001b[0m\u001b[0;34m.\u001b[0m\u001b[0mjoin\u001b[0m\u001b[0;34m(\u001b[0m\u001b[0mimg_root\u001b[0m\u001b[0;34m,\u001b[0m \u001b[0;34m'SEQ_{:}_{:}.jpg'\u001b[0m\u001b[0;34m.\u001b[0m\u001b[0mformat\u001b[0m\u001b[0;34m(\u001b[0m\u001b[0mvid_id\u001b[0m\u001b[0;34m,\u001b[0m \u001b[0mstr\u001b[0m\u001b[0;34m(\u001b[0m\u001b[0mfid\u001b[0m\u001b[0;34m)\u001b[0m\u001b[0;34m.\u001b[0m\u001b[0mzfill\u001b[0m\u001b[0;34m(\u001b[0m\u001b[0;36m3\u001b[0m\u001b[0;34m)\u001b[0m\u001b[0;34m)\u001b[0m\u001b[0;34m)\u001b[0m\u001b[0;34m\u001b[0m\u001b[0;34m\u001b[0m\u001b[0m\n\u001b[0;32m---> 12\u001b[0;31m         \u001b[0mimg\u001b[0m \u001b[0;34m=\u001b[0m \u001b[0mcv2\u001b[0m\u001b[0;34m.\u001b[0m\u001b[0mimread\u001b[0m\u001b[0;34m(\u001b[0m\u001b[0mimg_path\u001b[0m\u001b[0;34m)\u001b[0m\u001b[0;34m\u001b[0m\u001b[0;34m\u001b[0m\u001b[0m\n\u001b[0m\u001b[1;32m     13\u001b[0m \u001b[0;34m\u001b[0m\u001b[0m\n\u001b[1;32m     14\u001b[0m         \u001b[0;32mfor\u001b[0m \u001b[0midx\u001b[0m\u001b[0;34m,\u001b[0m \u001b[0mbbox\u001b[0m \u001b[0;32min\u001b[0m \u001b[0msub_df\u001b[0m\u001b[0;34m.\u001b[0m\u001b[0miterrows\u001b[0m\u001b[0;34m(\u001b[0m\u001b[0;34m)\u001b[0m\u001b[0;34m:\u001b[0m\u001b[0;34m\u001b[0m\u001b[0;34m\u001b[0m\u001b[0m\n",
      "\u001b[0;31mKeyboardInterrupt\u001b[0m: "
     ]
    }
   ],
   "source": [
    "for vid_nm in vid_nms:\n",
    "    vid_id = vid_nm.split('_')[0]\n",
    "    reid_vid_root = os.path.join(reid_root, vid_nm)\n",
    "    reid_img_root = reid_vid_root + '/img'\n",
    "    reid_df_path = reid_vid_root + '/txt/reid.txt'\n",
    "    create_folder(reid_img_root)\n",
    "    reid_df = pd.read_csv(reid_df_path)\n",
    "    \n",
    "    num_fid = len(reid_df.fid.uniqe())\n",
    "    for fid, sub_df in tqdm(reid_df.groupby('fid'), total = num_fid):\n",
    "        img_root = os.path.join(vid_root, vid_nm)\n",
    "        img_path = os.path.join(img_root, 'SEQ_{:}_{:}.jpg'.format(vid_id, str(fid).zfill(3)))\n",
    "        img = cv2.imread(img_path)\n",
    "        \n",
    "        for idx, bbox in sub_df.iterrows():\n",
    "            _, pid, x, y, w, h, iou, did = bbox\n",
    "            reid_img_out_path = os.path.join(reid_img_root, str(int(pid)).zfill(6))\n",
    "            create_folder(reid_img_out_path, quiet=True)\n",
    "            x1, y1, x2, y2 = int(x), int(y), int(x+w), int(y+h)\n",
    "            reid_img = img[y1:y2, x1:x2, :]\n",
    "            img_nm = '_'.join([str(x) for x in [int(pid), int(fid), x1, y1, x2, y2]]) \n",
    "            reid_img_nm = os.path.join(reid_img_out_path, img_nm +'.jpg')\n",
    "            cv2.imwrite(reid_img_nm, reid_img)\n",
    "    \n",
    "    break"
   ]
  },
  {
   "cell_type": "code",
   "execution_count": 5,
   "id": "subsequent-directory",
   "metadata": {},
   "outputs": [
    {
     "ename": "TypeError",
     "evalue": "sequence item 0: expected str instance, int found",
     "output_type": "error",
     "traceback": [
      "\u001b[0;31m---------------------------------------------------------------------------\u001b[0m",
      "\u001b[0;31mTypeError\u001b[0m                                 Traceback (most recent call last)",
      "\u001b[0;32m<ipython-input-5-1e16494cedd9>\u001b[0m in \u001b[0;36m<module>\u001b[0;34m\u001b[0m\n\u001b[0;32m----> 1\u001b[0;31m \u001b[0;34m'_'\u001b[0m\u001b[0;34m.\u001b[0m\u001b[0mjoin\u001b[0m\u001b[0;34m(\u001b[0m\u001b[0;34m[\u001b[0m\u001b[0mint\u001b[0m\u001b[0;34m(\u001b[0m\u001b[0mpid\u001b[0m\u001b[0;34m)\u001b[0m\u001b[0;34m,\u001b[0m \u001b[0mint\u001b[0m\u001b[0;34m(\u001b[0m\u001b[0mfid\u001b[0m\u001b[0;34m)\u001b[0m\u001b[0;34m,\u001b[0m \u001b[0mx1\u001b[0m\u001b[0;34m,\u001b[0m \u001b[0my1\u001b[0m\u001b[0;34m,\u001b[0m \u001b[0mx2\u001b[0m\u001b[0;34m,\u001b[0m \u001b[0my2\u001b[0m\u001b[0;34m]\u001b[0m\u001b[0;34m)\u001b[0m\u001b[0;34m\u001b[0m\u001b[0;34m\u001b[0m\u001b[0m\n\u001b[0m",
      "\u001b[0;31mTypeError\u001b[0m: sequence item 0: expected str instance, int found"
     ]
    }
   ],
   "source": [
    "'_'.join([int(pid), int(fid), x1, y1, x2, y2])"
   ]
  },
  {
   "cell_type": "code",
   "execution_count": 4,
   "id": "classified-brick",
   "metadata": {},
   "outputs": [],
   "source": [
    "vid_nm = vid_nms[5]\n",
    "cls_txt = pd.read_csv('../../user_data/tmp_data/classification/CLS-PANDA/{:}/txt/cls.txt'.format(vid_nm))\n",
    "reid_txt = pd.read_csv('../../user_data/tmp_data/reid/ReID-PANDA/{:}/txt/reid.txt'.format(vid_nm))"
   ]
  },
  {
   "cell_type": "code",
   "execution_count": null,
   "id": "passive-rachel",
   "metadata": {},
   "outputs": [],
   "source": [
    "reid_txt"
   ]
  },
  {
   "cell_type": "code",
   "execution_count": 8,
   "id": "accepting-affiliation",
   "metadata": {},
   "outputs": [],
   "source": [
    "# # visualization\n",
    "\n",
    "# det_ann = cls_txt.iloc[50000]\n",
    "# gt_ann = reid_txt[(reid_txt.fid==det_ann.fid) & (reid_txt.pid==det_ann.gid)].iloc[0]\n",
    "\n",
    "# img_root = \"../../user_data/tmp_data/tracking/MOT-PANDA/\"\n",
    "# vid_id = vid_nm.split('_')[0]\n",
    "# img_path = os.path.join(img_root, vid_nm, 'img1/SEQ_{:}_{:}.jpg'.format(vid_id, str(det_ann.fid).zfill(3)))\n",
    "# img = cv2.imread(img_path)\n",
    "\n",
    "# x,y,w,h = det_ann.values[2:6]\n",
    "# x1, y1, x2, y2 = int(x), int(y), int(x+w), int(y+h)\n",
    "# cv2.rectangle(img, (x1,y1), (x2,y2), (0, 0, 255), 2)\n",
    "\n",
    "# x,y,w,h = gt_ann.values[2:6]\n",
    "# x1, y1, x2, y2 = int(x), int(y), int(x+w), int(y+h)\n",
    "# cv2.rectangle(img, (x1,y1), (x2,y2), (255, 0, 0), 2)\n",
    "\n",
    "# cv2.imwrite(\"./sample.jpg\", img)"
   ]
  }
 ],
 "metadata": {
  "kernelspec": {
   "display_name": "Python 3",
   "language": "python",
   "name": "python3"
  },
  "language_info": {
   "codemirror_mode": {
    "name": "ipython",
    "version": 3
   },
   "file_extension": ".py",
   "mimetype": "text/x-python",
   "name": "python",
   "nbconvert_exporter": "python",
   "pygments_lexer": "ipython3",
   "version": "3.7.9"
  }
 },
 "nbformat": 4,
 "nbformat_minor": 5
}
