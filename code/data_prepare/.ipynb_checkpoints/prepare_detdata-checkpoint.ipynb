{
 "cells": [
  {
   "cell_type": "code",
   "execution_count": 1,
   "id": "4e2c5e3d",
   "metadata": {},
   "outputs": [],
   "source": [
    "import pandas as pd\n",
    "import json\n",
    "import os\n",
    "import os.path as osp"
   ]
  },
  {
   "cell_type": "code",
   "execution_count": 12,
   "id": "7506598e",
   "metadata": {},
   "outputs": [],
   "source": [
    "from utils import round1_coco, round2_coco"
   ]
  },
  {
   "cell_type": "code",
   "execution_count": 13,
   "id": "2b15846a",
   "metadata": {},
   "outputs": [],
   "source": [
    "round1_root = \"../../user_data/tmp_data/round-1/\"\n",
    "round2_root = \"../../user_data/tmp_data/round-2/\""
   ]
  },
  {
   "cell_type": "code",
   "execution_count": 14,
   "id": "221aefdb",
   "metadata": {},
   "outputs": [],
   "source": [
    "round1_tgtfile = '../../user_data/tmp_data/detection/annotations/panda_coco_round1.json'\n",
    "round2_tgtfile = '../../user_data/tmp_data/detection/annotations/panda_coco_round2.json'"
   ]
  },
  {
   "cell_type": "code",
   "execution_count": 15,
   "id": "f6128151",
   "metadata": {},
   "outputs": [],
   "source": [
    "round1_coco(round1_root, round1_tgtfile)"
   ]
  },
  {
   "cell_type": "code",
   "execution_count": 16,
   "id": "8052a4d2",
   "metadata": {},
   "outputs": [
    {
     "name": "stderr",
     "output_type": "stream",
     "text": [
      "100%|██████████| 10/10 [00:07<00:00,  1.42it/s]\n"
     ]
    }
   ],
   "source": [
    "round2_coco(round2_root, round2_tgtfile)"
   ]
  }
 ],
 "metadata": {
  "kernelspec": {
   "display_name": "Python 3",
   "language": "python",
   "name": "python3"
  },
  "language_info": {
   "codemirror_mode": {
    "name": "ipython",
    "version": 3
   },
   "file_extension": ".py",
   "mimetype": "text/x-python",
   "name": "python",
   "nbconvert_exporter": "python",
   "pygments_lexer": "ipython3",
   "version": "3.8.8"
  }
 },
 "nbformat": 4,
 "nbformat_minor": 5
}
